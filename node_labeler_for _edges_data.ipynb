{
 "cells": [
  {
   "cell_type": "markdown",
   "metadata": {},
   "source": [
    "# Node Labeler for Edges Data\n",
    "This Jupyter notebook is useful if you have a *nodes* CSV with a unique *ID* and *Label* for each node, plus an *edges* CSV with a *Source* and *Target* column that use the unique ID rather than the label. It creates a new CSV with the Source and Target labels (rather than IDs), as well as Weight and Type columns from the original *edges* CSV.\n",
    "\n",
    "To summarize, you start with:\n",
    "\n",
    "**Nodes**\n",
    "\n",
    "| ID | Label   |\n",
    "|----|---------|\n",
    "| 1  | Anna    |\n",
    "| 2  | Levin   |\n",
    "| 3  | Vronsky |\n",
    "\n",
    "**Edges**\n",
    "\n",
    "| Source | Target | Weight | Type     |\n",
    "|--------|--------|--------|----------|\n",
    "| 1      | 1      | 62     | Directed |\n",
    "| 1      | 2      | 11     | Directed |\n",
    "| 1      | 3      | 188    | Directed |\n",
    "\n",
    "And end with:\n",
    "\n",
    "**Labeled Network**\n",
    "\n",
    "| Source | Target  | Weight | Type     |\n",
    "|--------|---------|--------|----------|\n",
    "| Anna   | Anna    | 62     | Directed |\n",
    "| Anna   | Levin   | 11     | Directed |\n",
    "| Anna   | Vronsky | 188    | Directed |"
   ]
  },
  {
   "cell_type": "markdown",
   "metadata": {},
   "source": [
    "## Step 1. Import modules"
   ]
  },
  {
   "cell_type": "code",
   "execution_count": null,
   "metadata": {},
   "outputs": [],
   "source": [
    "#os lets you change the working directory\n",
    "import os\n",
    "#pandas lets you create, modify, and export dataframes\n",
    "import pandas as pd"
   ]
  },
  {
   "cell_type": "markdown",
   "metadata": {},
   "source": [
    "## Step 2. Specify source directory and edge file\n",
    "Replace `/Users/qad/Documents/aknet` with the path to the working directory below to the directory where you have your source files.\n",
    "\n",
    "For instance, the default path to the Documents directory is (substituting your user name on the computer for YOUR-USER-NAME):\n",
    "\n",
    "- On Mac: '/Users/YOUR-USER-NAME/Documents'\n",
    "- On Windows: 'C:\\\\\\Users\\\\\\YOUR-USER-NAME\\\\\\Documents'\n",
    "\n",
    "Then, replace `AK-I.csv` with the name of the Gephi edge list file that you want to use. It should end in .csv, and have a header row that reads *Source*, *Target*, *Weight*. It can have additional columns, but needs to have those three columns, in that order. If your file does not have a header row (but is laid out in the right order), type a `#` in front of the line that reads `next(edgereader)`. "
   ]
  },
  {
   "cell_type": "code",
   "execution_count": null,
   "metadata": {},
   "outputs": [],
   "source": [
    "#Put the path to the directory with your edge file below\n",
    "os.chdir('/Users/qad/Documents/aknet')\n",
    "#Put the name of your edge file below\n",
    "edges = 'AK-edges_1.csv'\n",
    "nodes = 'AK-nodes_1.csv'"
   ]
  },
  {
   "cell_type": "markdown",
   "metadata": {},
   "source": [
    "## Step 3. Create dataframes\n",
    "A dataframe is like a spreadsheet or database table that you can manipulate in Python. The next cell creates two dataframes: one for the nodes, and one for the edges."
   ]
  },
  {
   "cell_type": "code",
   "execution_count": null,
   "metadata": {},
   "outputs": [],
   "source": [
    "dfnodes = pd.read_csv(nodes, usecols = [\"ID\" , \"Label\"])\n",
    "dfedges = pd.read_csv(edges)"
   ]
  },
  {
   "cell_type": "markdown",
   "metadata": {},
   "source": [
    "## Step 4. Combine dataframes\n",
    "The following cell renames the *ID* column in the nodes dataframe to *Source* and the *Label* column to *SourceLabel*, then creates a new dataframe that has all the edge data, and the label corresponding to the ID from the source column. Then, it renames what was originally the *ID* column in the noes dataframe to *Target*, and the *Label* column to *TargetLabel*, and creates a new dataframe with the labels corresponding to both the source and the target. \n",
    "\n",
    "\n"
   ]
  },
  {
   "cell_type": "code",
   "execution_count": null,
   "metadata": {},
   "outputs": [],
   "source": [
    "#Rename \"ID\" column as \"Source\", and \"Label\" column as \"SourceLabel\"\n",
    "dfnodes.rename(columns={\"ID\": \"Source\", \"Label\":\"SourceLabel\"}, inplace=True)\n",
    "#Create temporary dataframe that adds a column with the labels for the source data from the edges dataframe\n",
    "dftemp = pd.merge(dfnodes, dfedges, on='Source', how='inner')\n",
    "#Rename original \"ID\" column (currently called \"Source\") as \"Target\", and \"SourceLabel\" as \"TargetLabel\"\n",
    "dfnodes.rename(columns={\"Source\": \"Target\", \"SourceLabel\":\"TargetLabel\"}, inplace=True)\n",
    "#Create dataframe with labels for source and target data\n",
    "dfmerged = pd.merge(dftemp, dfnodes, on='Target', how='inner')\n",
    "#Show dataframe\n",
    "dfmerged"
   ]
  },
  {
   "cell_type": "markdown",
   "metadata": {},
   "source": [
    "## Step 5: Cleanup\n",
    "We need the labels to be in columns called \"Source\" and \"Target\", not \"SourceLabel\" and \"TargetLabel\". But we already have \"Source\" and \"Target\" columns, so the next step is to drop those existing columns, reorder the columns to restore the original column order, then rename \"SourceLabel\" and \"TargetLabel\"."
   ]
  },
  {
   "cell_type": "code",
   "execution_count": null,
   "metadata": {},
   "outputs": [],
   "source": [
    "#Drop current \"Source\" and \"Target\" columns that still have the ID numbers\n",
    "dfmerged.drop(columns=['Source', 'Target'], axis=1, inplace=True)\n",
    "#Define new sort order\n",
    "columnsTitles = ['SourceLabel', 'TargetLabel', 'Weight', 'Type']\n",
    "#Re-sort the dataframe\n",
    "dfclean = dfmerged.reindex(columns=columnsTitles)\n",
    "#Rename \"SourceLabel\" as \"Source\" and \"TargetLabel\" as \"Target\"\n",
    "dfclean.rename(columns={\"SourceLabel\": \"Source\", \"TargetLabel\":\"Target\"}, inplace=True)\n",
    "#Show dataframe\n",
    "dfclean"
   ]
  },
  {
   "cell_type": "markdown",
   "metadata": {},
   "source": [
    "## Step 6. Export\n",
    "The following cell defines an output filename that takes the name of the input edges file, and appends \"\\_labels\" to it, and then creates that file with the contents of the cleaned-up dataframe."
   ]
  },
  {
   "cell_type": "code",
   "execution_count": null,
   "metadata": {},
   "outputs": [],
   "source": [
    "#Sets up model for creating the file name\n",
    "file_name = edges.replace('.csv', '_labels.csv')\n",
    "#Exports the new CSV file\n",
    "dfclean.to_csv(file_name)"
   ]
  },
  {
   "cell_type": "markdown",
   "metadata": {},
   "source": [
    "## Suggested citation\n",
    "Dombrowski, Quinn. *Node Labeler for Edges Data*. Jupyter notebook. https://github.com/quinnanya/network-triads. 2019."
   ]
  }
 ],
 "metadata": {
  "kernelspec": {
   "display_name": "Python 3",
   "language": "python",
   "name": "python3"
  },
  "language_info": {
   "codemirror_mode": {
    "name": "ipython",
    "version": 3
   },
   "file_extension": ".py",
   "mimetype": "text/x-python",
   "name": "python",
   "nbconvert_exporter": "python",
   "pygments_lexer": "ipython3",
   "version": "3.6.7"
  }
 },
 "nbformat": 4,
 "nbformat_minor": 2
}
