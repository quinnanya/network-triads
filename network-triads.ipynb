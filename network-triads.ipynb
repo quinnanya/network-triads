{
 "cells": [
  {
   "cell_type": "markdown",
   "metadata": {},
   "source": [
    "# Network triads with networkx\n",
    "\n",
    "This Jupyter notebook uses the [networkx Python library](https://networkx.github.io/) to do a census of the different kinds of triads in a directed network imported from a Gephi edge list."
   ]
  },
  {
   "cell_type": "markdown",
   "metadata": {},
   "source": [
    "## Step 1. Import modules"
   ]
  },
  {
   "cell_type": "code",
   "execution_count": null,
   "metadata": {},
   "outputs": [],
   "source": [
    "#networkx is used to create and analyze the network\n",
    "import networkx as nx\n",
    "#os lets you change the working directory\n",
    "import os\n",
    "#csv lets your import data from a CSV file\n",
    "import csv"
   ]
  },
  {
   "cell_type": "markdown",
   "metadata": {},
   "source": [
    "## Step 2. Specify source directory and edge file\n",
    "Replace `/Users/qad/Documents/aknet` with the path to the working directory below to the directory where you have your source files.\n",
    "\n",
    "For instance, the default path to the Documents directory is (substituting your user name on the computer for YOUR-USER-NAME):\n",
    "\n",
    "- On Mac: '/Users/YOUR-USER-NAME/Documents'\n",
    "- On Windows: 'C:\\\\\\Users\\\\\\YOUR-USER-NAME\\\\\\Documents'\n",
    "\n",
    "Then, replace `AK-I.csv` with the name of the Gephi edge list file that you want to use. It should end in .csv, and have a header row that reads *Source*, *Target*, *Weight*. It can have additional columns, but needs to have those three columns, in that order. If your file does not have a header row (but is laid out in the right order), type a `#` in front of the line that reads `next(edgereader)`. "
   ]
  },
  {
   "cell_type": "code",
   "execution_count": null,
   "metadata": {},
   "outputs": [],
   "source": [
    "#Put the path to the directory with your edge file below\n",
    "os.chdir('/Users/qad/Documents/aknet')\n",
    "#Put the name of your edge file below\n",
    "edges = 'AK-I.csv'"
   ]
  },
  {
   "cell_type": "markdown",
   "metadata": {},
   "source": [
    "## Step 3. Create graph\n",
    "Run the cells below to instantiate a directed graph, and populate it with data from your edge file."
   ]
  },
  {
   "cell_type": "code",
   "execution_count": null,
   "metadata": {},
   "outputs": [],
   "source": [
    "G = nx.DiGraph()"
   ]
  },
  {
   "cell_type": "code",
   "execution_count": null,
   "metadata": {},
   "outputs": [],
   "source": [
    "with open(edges, 'r') as edgefile:\n",
    "    edgereader = csv.reader(edgefile)\n",
    "    next(edgereader)\n",
    "    for row in edgereader:\n",
    "        \n",
    "        weight = {'weight':int(row[2])}\n",
    "        G.add_edges_from([(row[0],row[1],weight)])"
   ]
  },
  {
   "cell_type": "markdown",
   "metadata": {},
   "source": [
    "Run the cells below to see the edges of the network you've created, as well as the in-degree and out-degree of the nodes."
   ]
  },
  {
   "cell_type": "code",
   "execution_count": null,
   "metadata": {},
   "outputs": [],
   "source": [
    "#Shows all edges\n",
    "G.edges()"
   ]
  },
  {
   "cell_type": "code",
   "execution_count": null,
   "metadata": {},
   "outputs": [],
   "source": [
    "#Shows in-degree\n",
    "G.in_degree(weight='weight')"
   ]
  },
  {
   "cell_type": "code",
   "execution_count": null,
   "metadata": {},
   "outputs": [],
   "source": [
    "#Shows out-degree\n",
    "G.out_degree(weight='weight')"
   ]
  },
  {
   "cell_type": "markdown",
   "metadata": {},
   "source": [
    "## Step 4. Generate lists of triads\n",
    "There are 16 different types of triads that networkx can calculate for directed nteworks, and each has a numeric identifier:\n",
    "![network triads](https://i.stack.imgur.com/9Xo0R.png)\n",
    "Looking at the diagram, it shouldn't be a surprise that there are thousands of instances of some of these triads (especially 003). \n",
    "\n",
    "Run the code cell below to see how many instances of each triad type can be found in your network."
   ]
  },
  {
   "cell_type": "code",
   "execution_count": null,
   "metadata": {},
   "outputs": [],
   "source": [
    "nx.triadic_census(G)"
   ]
  },
  {
   "cell_type": "markdown",
   "metadata": {},
   "source": [
    "Once you know how many instances there are of some kinds of triads, you'll probably want to know what those triads are. networkx doesn't have a function to do this out of the box, but the code below (from [this Stack Overflow answer](https://stackoverflow.com/a/56124663)) creates the function. Run the code cell below."
   ]
  },
  {
   "cell_type": "code",
   "execution_count": null,
   "metadata": {},
   "outputs": [],
   "source": [
    "import itertools\n",
    "def _tricode(G, v, u, w):\n",
    "    \"\"\"Returns the integer code of the given triad.\n",
    "\n",
    "    This is some fancy magic that comes from Batagelj and Mrvar's paper. It\n",
    "    treats each edge joining a pair of `v`, `u`, and `w` as a bit in\n",
    "    the binary representation of an integer.\n",
    "\n",
    "    \"\"\"\n",
    "    combos = ((v, u, 1), (u, v, 2), (v, w, 4), (w, v, 8), (u, w, 16),\n",
    "              (w, u, 32))\n",
    "    return sum(x for u, v, x in combos if v in G[u])\n",
    "\n",
    "#: The integer codes representing each type of triad.\n",
    "#: Triads that are the same up to symmetry have the same code.\n",
    "TRICODES = (1, 2, 2, 3, 2, 4, 6, 8, 2, 6, 5, 7, 3, 8, 7, 11, 2, 6, 4, 8, 5, 9,\n",
    "            9, 13, 6, 10, 9, 14, 7, 14, 12, 15, 2, 5, 6, 7, 6, 9, 10, 14, 4, 9,\n",
    "            9, 12, 8, 13, 14, 15, 3, 7, 8, 11, 7, 12, 14, 15, 8, 14, 13, 15,\n",
    "            11, 15, 15, 16)\n",
    "\n",
    "#: The names of each type of triad. The order of the elements is\n",
    "#: important: it corresponds to the tricodes given in :data:`TRICODES`.\n",
    "TRIAD_NAMES = ('003', '012', '102', '021D', '021U', '021C', '111D', '111U',\n",
    "               '030T', '030C', '201', '120D', '120U', '120C', '210', '300')\n",
    "\n",
    "#: A dictionary mapping triad code to triad name.\n",
    "TRICODE_TO_NAME = {i: TRIAD_NAMES[code - 1] for i, code in enumerate(TRICODES)}\n",
    "\n",
    "triad_nodes = {name: set([]) for name in TRIAD_NAMES}\n",
    "m = {v: i for i, v in enumerate(G)}\n",
    "for v in G:\n",
    "    vnbrs = set(G.pred[v]) | set(G.succ[v])\n",
    "    for u in vnbrs:\n",
    "        if m[u] > m[v]:\n",
    "            unbrs = set(G.pred[u]) | set(G.succ[u])\n",
    "            neighbors = (vnbrs | unbrs) - {u, v}\n",
    "            not_neighbors = set(G.nodes()) - neighbors - {u, v}\n",
    "            # Find dyadic triads\n",
    "            for w in not_neighbors:\n",
    "                if v in G[u] and u in G[v]:\n",
    "                    triad_nodes['102'].add(tuple(sorted([u, v, w])))\n",
    "                else:\n",
    "                    triad_nodes['012'].add(tuple(sorted([u, v, w])))\n",
    "            for w in neighbors:\n",
    "                if m[u] < m[w] or (m[v] < m[w] < m[u] and\n",
    "                                   v not in G.pred[w] and\n",
    "                                   v not in G.succ[w]):\n",
    "                    code = _tricode(G, v, u, w)\n",
    "                    triad_nodes[TRICODE_TO_NAME[code]].add(\n",
    "                        tuple(sorted([u, v, w])))\n",
    "# find null triads\n",
    "all_tuples = set()\n",
    "for s in triad_nodes.values():\n",
    "    all_tuples = all_tuples.union(s)\n",
    "triad_nodes['003'] = set(itertools.combinations(G.nodes(), 3)).difference(all_tuples)"
   ]
  },
  {
   "cell_type": "markdown",
   "metadata": {},
   "source": [
    "In the code cell below, you can replace `210` with the identifier for any triad type to see what those triads are:\n",
    "![network triads](https://i.stack.imgur.com/9Xo0R.png)"
   ]
  },
  {
   "cell_type": "code",
   "execution_count": null,
   "metadata": {},
   "outputs": [],
   "source": [
    "print(triad_nodes['210'])"
   ]
  },
  {
   "cell_type": "markdown",
   "metadata": {},
   "source": [
    "## Suggested citation\n",
    "Dombrowski, Quinn. *Network Triads with Networkx*. Jupyter notebook. https://github.com/quinnanya/network-triads. 2019."
   ]
  }
 ],
 "metadata": {
  "kernelspec": {
   "display_name": "Python 3",
   "language": "python",
   "name": "python3"
  },
  "language_info": {
   "codemirror_mode": {
    "name": "ipython",
    "version": 3
   },
   "file_extension": ".py",
   "mimetype": "text/x-python",
   "name": "python",
   "nbconvert_exporter": "python",
   "pygments_lexer": "ipython3",
   "version": "3.6.7"
  }
 },
 "nbformat": 4,
 "nbformat_minor": 2
}
